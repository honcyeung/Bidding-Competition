{
 "cells": [
  {
   "cell_type": "code",
   "execution_count": 1,
   "id": "654cfd55",
   "metadata": {},
   "outputs": [],
   "source": [
    "from IPython.display import clear_output"
   ]
  },
  {
   "cell_type": "code",
   "execution_count": 2,
   "id": "e2a3de96",
   "metadata": {},
   "outputs": [
    {
     "name": "stdout",
     "output_type": "stream",
     "text": [
      "What is your name? ben\n",
      "What is your bid? $59\n",
      "Are there any bidders? Type \"Yes\" or \"No\": no\n",
      "The winner is paul with a bid of $657.0\n"
     ]
    }
   ],
   "source": [
    "data = {}\n",
    "print('Welcome to the secret auction program.')\n",
    "\n",
    "def find_highest_bidder(data):\n",
    "    highest_bid = 0\n",
    "    winner = ''\n",
    "    \n",
    "    for bidder in data:\n",
    "        bid_amount = data[bidder]\n",
    "        if bid_amount > highest_bid:\n",
    "            highest_bid = bid_amount\n",
    "            winner = bidder\n",
    "    print(f'The winner is {winner} with a bid of ${highest_bid}')\n",
    "\n",
    "condition = True\n",
    "while condition:\n",
    "    \n",
    "    name = input('What is your name? ')\n",
    "    \n",
    "    while True:\n",
    "        try:\n",
    "            bid = float(input('What is your bid? $'))\n",
    "            break\n",
    "        except:\n",
    "            print('Invalid input!')\n",
    "            \n",
    "    data[name] = bid\n",
    "    \n",
    "    while True:\n",
    "        other = input('Are there any bidders? Type \"Yes\" or \"No\": ').lower()\n",
    "\n",
    "        if other == 'yes':\n",
    "            clear_output(wait = False)\n",
    "            break\n",
    "        elif other == 'no':\n",
    "            find_highest_bidder(data)\n",
    "            condition = False\n",
    "            break\n",
    "        else:\n",
    "            print('Wrong input!')"
   ]
  }
 ],
 "metadata": {
  "kernelspec": {
   "display_name": "Python 3",
   "language": "python",
   "name": "python3"
  },
  "language_info": {
   "codemirror_mode": {
    "name": "ipython",
    "version": 3
   },
   "file_extension": ".py",
   "mimetype": "text/x-python",
   "name": "python",
   "nbconvert_exporter": "python",
   "pygments_lexer": "ipython3",
   "version": "3.8.11"
  }
 },
 "nbformat": 4,
 "nbformat_minor": 5
}
